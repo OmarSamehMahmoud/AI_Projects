{
  "nbformat": 4,
  "nbformat_minor": 0,
  "metadata": {
    "kernelspec": {
      "display_name": "Python 3",
      "language": "python",
      "name": "python3"
    },
    "language_info": {
      "codemirror_mode": {
        "name": "ipython",
        "version": 3
      },
      "file_extension": ".py",
      "mimetype": "text/x-python",
      "name": "python",
      "nbconvert_exporter": "python",
      "pygments_lexer": "ipython3",
      "version": "3.8.10"
    },
    "colab": {
      "name": "VG16.ipynb",
      "provenance": []
    },
    "accelerator": "GPU"
  },
  "cells": [
    {
      "cell_type": "code",
      "metadata": {
        "id": "3qIZPcSuNJcu"
      },
      "source": [
        "!pip install -q kaggle\n",
        "\n",
        "!mkdir -p ~/.kaggle\n",
        "!cp kaggle.json ~/.kaggle/\n",
        "\n",
        "# This permissions change avoids a warning on Kaggle tool startup.\n",
        "!chmod 600 ~/.kaggle/kaggle.json"
      ],
      "execution_count": 4,
      "outputs": []
    },
    {
      "cell_type": "code",
      "metadata": {
        "colab": {
          "base_uri": "https://localhost:8080/"
        },
        "id": "GkrXylnyTcg2",
        "outputId": "df49f5b4-6249-4c08-84a2-63ed13b609d6"
      },
      "source": [
        "!kaggle datasets download -d paultimothymooney/chest-xray-pneumonia"
      ],
      "execution_count": 5,
      "outputs": [
        {
          "output_type": "stream",
          "text": [
            "Downloading chest-xray-pneumonia.zip to /content\n",
            "100% 2.29G/2.29G [00:30<00:00, 39.3MB/s]\n",
            "100% 2.29G/2.29G [00:30<00:00, 80.2MB/s]\n"
          ],
          "name": "stdout"
        }
      ]
    },
    {
      "cell_type": "code",
      "metadata": {
        "id": "A2IEz90ZNM3T"
      },
      "source": [
        "from zipfile import ZipFile\n",
        "file_name='/content/chest-xray-pneumonia.zip'\n",
        "with ZipFile(file_name,'r') as zip:\n",
        "  zip.extractall()"
      ],
      "execution_count": 6,
      "outputs": []
    },
    {
      "cell_type": "code",
      "metadata": {
        "id": "3_Uq9k2fmJy-"
      },
      "source": [
        "import keras \n",
        "from keras.models import * \n",
        "from keras.layers import * \n",
        "from keras.preprocessing import image\n",
        "import PIL\n",
        "from keras.preprocessing.image import ImageDataGenerator"
      ],
      "execution_count": 7,
      "outputs": []
    },
    {
      "cell_type": "code",
      "metadata": {
        "id": "1-Db16F9mJzF",
        "colab": {
          "base_uri": "https://localhost:8080/"
        },
        "outputId": "1e2b3f6e-313d-4ed8-edb8-f1cadbf74d3e"
      },
      "source": [
        "train_datagen = ImageDataGenerator( \n",
        "        rescale=1./255,\n",
        "        shear_range=0.2,\n",
        "        zoom_range=0.2,\n",
        "        horizontal_flip=True)\n",
        "\n",
        "\n",
        "test_datagen = ImageDataGenerator(rescale=1./255)\n",
        "\n",
        "training_set = train_datagen.flow_from_directory(\n",
        "        r'/content/chest_xray/train',\n",
        "        color_mode = 'grayscale',\n",
        "        target_size=(224, 224),\n",
        "        batch_size=32,\n",
        "        class_mode='binary', shuffle=True)\n",
        "\n",
        "test_set = test_datagen.flow_from_directory(\n",
        "        r'/content/chest_xray/test',\n",
        "        color_mode = 'grayscale',\n",
        "        target_size=(224, 224),\n",
        "        batch_size=32,\n",
        "        class_mode='binary', shuffle=True)"
      ],
      "execution_count": 8,
      "outputs": [
        {
          "output_type": "stream",
          "text": [
            "Found 5216 images belonging to 2 classes.\n",
            "Found 624 images belonging to 2 classes.\n"
          ],
          "name": "stdout"
        }
      ]
    },
    {
      "cell_type": "code",
      "metadata": {
        "id": "ikSmGYjTmJzA"
      },
      "source": [
        "# AlexNet\n",
        "model = Sequential()\n",
        "\n",
        "model.add(Conv2D(64, kernel_size=(3, 3), strides=(1,1), padding='same', activation='relu', input_shape=(224,224,1)))\n",
        "model.add(Conv2D(64, kernel_size=(3, 3), strides=(1,1), padding='same', activation='relu'))\n",
        "model.add(MaxPooling2D(pool_size=(3, 3), strides=(2, 2)))\n",
        "\n",
        "model.add(Conv2D(128, kernel_size=(3, 3), strides=(1,1), padding='same', activation='relu'))\n",
        "model.add(Conv2D(128, kernel_size=(3, 3), strides=(1,1), padding='same', activation='relu'))\n",
        "model.add(MaxPooling2D(pool_size=(3, 3), strides=(2, 2)))\n",
        "\n",
        "\n",
        "model.add(Conv2D(256, kernel_size=(3, 3), strides=(1,1), padding='same', activation='relu'))\n",
        "model.add(Conv2D(256, kernel_size=(3, 3), strides=(1,1), padding='same', activation='relu'))\n",
        "model.add(MaxPooling2D(pool_size=(3, 3), strides=(2, 2)))\n",
        "\n",
        "model.add(Conv2D(512, kernel_size=(3, 3), strides=(1,1), padding='same', activation='relu'))\n",
        "model.add(Conv2D(512, kernel_size=(3, 3), strides=(1,1), padding='same', activation='relu'))\n",
        "model.add(Conv2D(512, kernel_size=(3, 3), strides=(1,1), padding='same', activation='relu'))\n",
        "model.add(MaxPooling2D(pool_size=(3, 3), strides=(2, 2)))\n",
        "\n",
        "model.add(Conv2D(512, kernel_size=(3, 3), strides=(1,1), padding='same', activation='relu'))\n",
        "model.add(Conv2D(512, kernel_size=(3, 3), strides=(1,1), padding='same', activation='relu'))\n",
        "model.add(Conv2D(512, kernel_size=(3, 3), strides=(1,1), padding='same', activation='relu'))\n",
        "model.add(MaxPooling2D(pool_size=(3, 3), strides=(2, 2)))\n",
        "model.add(Dropout(0.5))\n",
        "model.add(Flatten())\n",
        "model.add(Dropout(0.5))\n",
        "model.add(Dense(4096, activation='relu'))\n",
        "model.add(Dropout(0.5))\n",
        "model.add(Dense(4096, activation='relu'))\n",
        "model.add(Dense(1, activation='sigmoid'))\n",
        "\n",
        "model.compile(loss=keras.losses.binary_crossentropy, optimizer=\"adam\", metrics=['accuracy'])\n",
        "\n",
        "\n",
        "model.summary()"
      ],
      "execution_count": null,
      "outputs": []
    },
    {
      "cell_type": "code",
      "metadata": {
        "scrolled": true,
        "id": "CqsTHqtGmJzH",
        "colab": {
          "base_uri": "https://localhost:8080/"
        },
        "outputId": "4ed8f2a7-1839-4dca-88a6-3b042a40e475"
      },
      "source": [
        "#We'll try to train with 100 Epochs\n",
        "results=model.fit( \n",
        "    training_set,\n",
        "    batch_size=32,  \n",
        "    epochs=30,\n",
        "    validation_data=test_set,\n",
        "    validation_steps=1\n",
        ")"
      ],
      "execution_count": null,
      "outputs": [
        {
          "output_type": "stream",
          "text": [
            "Epoch 1/30\n",
            "163/163 [==============================] - 92s 369ms/step - loss: 0.6034 - accuracy: 0.7360 - val_loss: 0.8073 - val_accuracy: 0.5000\n",
            "Epoch 2/30\n",
            "163/163 [==============================] - 60s 369ms/step - loss: 0.5711 - accuracy: 0.7429 - val_loss: 0.6550 - val_accuracy: 0.6562\n",
            "Epoch 3/30\n",
            "163/163 [==============================] - 60s 367ms/step - loss: 0.5873 - accuracy: 0.7337 - val_loss: 0.6812 - val_accuracy: 0.3750\n",
            "Epoch 4/30\n",
            "163/163 [==============================] - 59s 364ms/step - loss: 0.5611 - accuracy: 0.7465 - val_loss: 0.7000 - val_accuracy: 0.4688\n",
            "Epoch 5/30\n",
            "163/163 [==============================] - 59s 364ms/step - loss: 0.4803 - accuracy: 0.7782 - val_loss: 0.6982 - val_accuracy: 0.6250\n",
            "Epoch 6/30\n",
            "163/163 [==============================] - 59s 364ms/step - loss: 0.4500 - accuracy: 0.8044 - val_loss: 0.6632 - val_accuracy: 0.6875\n",
            "Epoch 7/30\n",
            "163/163 [==============================] - 60s 364ms/step - loss: 0.3766 - accuracy: 0.8252 - val_loss: 0.5141 - val_accuracy: 0.7812\n",
            "Epoch 8/30\n",
            "144/163 [=========================>....] - ETA: 6s - loss: 0.2792 - accuracy: 0.8791"
          ],
          "name": "stdout"
        }
      ]
    },
    {
      "cell_type": "code",
      "metadata": {
        "id": "Hc0yWCLKmJzJ"
      },
      "source": [
        "import matplotlib.pyplot as plt\n",
        "%matplotlib inline\n",
        "plt.plot(results.history['loss'])\n",
        "plt.plot(results.history['val_loss'])\n",
        "plt.legend(['Training', 'Validation'])\n",
        "plt.title('Training and Validation losses')\n",
        "plt.xlabel('epoch')"
      ],
      "execution_count": null,
      "outputs": []
    },
    {
      "cell_type": "code",
      "metadata": {
        "id": "mM82VIBBmJzK"
      },
      "source": [
        "plt.plot(results.history['accuracy'])\n",
        "plt.plot(results.history['val_accuracy'])\n",
        "plt.legend(['Training', 'Validation'])\n",
        "plt.title('Training and Validation accuracy')\n",
        "plt.xlabel('epoch')\n",
        "plt.ylim(0, 1);"
      ],
      "execution_count": null,
      "outputs": []
    },
    {
      "cell_type": "code",
      "metadata": {
        "id": "Toq27GVewB5f"
      },
      "source": [
        ""
      ],
      "execution_count": null,
      "outputs": []
    }
  ]
}