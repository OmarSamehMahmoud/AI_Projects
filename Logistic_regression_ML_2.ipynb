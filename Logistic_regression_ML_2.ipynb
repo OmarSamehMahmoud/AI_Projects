{
  "nbformat": 4,
  "nbformat_minor": 0,
  "metadata": {
    "colab": {
      "name": "Logistic regression.ipynb",
      "provenance": []
    },
    "kernelspec": {
      "name": "python3",
      "display_name": "Python 3"
    }
  },
  "cells": [
    {
      "cell_type": "markdown",
      "metadata": {
        "id": "SA8KXVAXm89L"
      },
      "source": [
        "**Logistic regression and Keras for classification**\n",
        "\n",
        "https://aigeekprogrammer.com/binary-classification-using-logistic-regression-and-keras/"
      ]
    },
    {
      "cell_type": "code",
      "metadata": {
        "colab": {
          "base_uri": "https://localhost:8080/"
        },
        "id": "5NDNcqKFm8QT",
        "outputId": "147a3fe9-8e64-4e82-ba69-4de7ab29cc63"
      },
      "source": [
        "import numpy as np\n",
        "from tensorflow import keras\n",
        "print (keras.__version__)"
      ],
      "execution_count": 1,
      "outputs": [
        {
          "output_type": "stream",
          "text": [
            "2.5.0\n"
          ],
          "name": "stdout"
        }
      ]
    },
    {
      "cell_type": "code",
      "metadata": {
        "colab": {
          "base_uri": "https://localhost:8080/"
        },
        "id": "XKv6pUV1m9sg",
        "outputId": "085b6b25-3c0d-4c4c-a1b7-9a219e65d5ec"
      },
      "source": [
        "from keras.datasets import mnist\n",
        "\n",
        "#We import data into variables and check their shape.\n",
        "\n",
        "(x_train, y_train), (x_test, y_test) = mnist.load_data()\n",
        "x_train.shape"
      ],
      "execution_count": 26,
      "outputs": [
        {
          "output_type": "execute_result",
          "data": {
            "text/plain": [
              "(60000, 28, 28)"
            ]
          },
          "metadata": {
            "tags": []
          },
          "execution_count": 26
        }
      ]
    },
    {
      "cell_type": "code",
      "metadata": {
        "colab": {
          "base_uri": "https://localhost:8080/"
        },
        "id": "G8JKbHbboBxK",
        "outputId": "7256539e-98aa-4f90-aa1e-30460b7769ad"
      },
      "source": [
        "y_train.shape"
      ],
      "execution_count": 27,
      "outputs": [
        {
          "output_type": "execute_result",
          "data": {
            "text/plain": [
              "(60000,)"
            ]
          },
          "metadata": {
            "tags": []
          },
          "execution_count": 27
        }
      ]
    },
    {
      "cell_type": "code",
      "metadata": {
        "colab": {
          "base_uri": "https://localhost:8080/"
        },
        "id": "vbTo80xHicDk",
        "outputId": "e698deab-9b5e-4a63-91e8-8b14daa30a03"
      },
      "source": [
        "np.unique(y_train)"
      ],
      "execution_count": 28,
      "outputs": [
        {
          "output_type": "execute_result",
          "data": {
            "text/plain": [
              "array([0, 1, 2, 3, 4, 5, 6, 7, 8, 9], dtype=uint8)"
            ]
          },
          "metadata": {
            "tags": []
          },
          "execution_count": 28
        }
      ]
    },
    {
      "cell_type": "code",
      "metadata": {
        "colab": {
          "base_uri": "https://localhost:8080/"
        },
        "id": "jwB2nS2QoB3Z",
        "outputId": "da182445-89a8-4f6a-8f6b-d04481e97969"
      },
      "source": [
        "#we create new variables that contain only zeros and ones.\n",
        "\n",
        "#x_train_new, y_train_new = x_train[(y_train==0) | (y_train==1)], y_train[(y_train==0) | (y_train==1)]\n",
        "\n",
        "#Let’s check the shape of the new variables.\n",
        "\n",
        "#x_train_new.shape"
      ],
      "execution_count": 5,
      "outputs": [
        {
          "output_type": "execute_result",
          "data": {
            "text/plain": [
              "(12665, 28, 28)"
            ]
          },
          "metadata": {
            "tags": []
          },
          "execution_count": 5
        }
      ]
    },
    {
      "cell_type": "code",
      "metadata": {
        "colab": {
          "base_uri": "https://localhost:8080/"
        },
        "id": "CNAbyHSkoB6B",
        "outputId": "98f0000a-0946-45af-e393-8b3c42171abd"
      },
      "source": [
        "#np.unique(y_train_new)"
      ],
      "execution_count": 18,
      "outputs": [
        {
          "output_type": "execute_result",
          "data": {
            "text/plain": [
              "array([0, 1], dtype=uint8)"
            ]
          },
          "metadata": {
            "tags": []
          },
          "execution_count": 18
        }
      ]
    },
    {
      "cell_type": "code",
      "metadata": {
        "colab": {
          "base_uri": "https://localhost:8080/"
        },
        "id": "RJNswhHkoB89",
        "outputId": "395b0c5a-d568-4129-dbc8-07099fce7f8d"
      },
      "source": [
        "#we need to flatten data into two dimensions only: index and flattened image data (28 * 28 = 784).\n",
        "\n",
        "x_train_final = x_train.reshape((-1, 784))\n",
        "x_train_final.shape"
      ],
      "execution_count": 29,
      "outputs": [
        {
          "output_type": "execute_result",
          "data": {
            "text/plain": [
              "(60000, 784)"
            ]
          },
          "metadata": {
            "tags": []
          },
          "execution_count": 29
        }
      ]
    },
    {
      "cell_type": "code",
      "metadata": {
        "colab": {
          "base_uri": "https://localhost:8080/"
        },
        "id": "ajqJCSIPovFf",
        "outputId": "f52e1c87-da4c-4833-d475-42f032f5dc8a"
      },
      "source": [
        "#A similar sequence of operations we perform for the test set.\n",
        "\n",
        "#x_test_new, y_test_new = x_test[(y_test==0) | (y_test==1)], y_test[(y_test==0) | (y_test==1)]\n",
        "#x_test_new.shape"
      ],
      "execution_count": 8,
      "outputs": [
        {
          "output_type": "execute_result",
          "data": {
            "text/plain": [
              "(2115, 28, 28)"
            ]
          },
          "metadata": {
            "tags": []
          },
          "execution_count": 8
        }
      ]
    },
    {
      "cell_type": "code",
      "metadata": {
        "id": "kqk5lrgkovJI"
      },
      "source": [
        "x_test_final = x_test.reshape((-1, 784))"
      ],
      "execution_count": 30,
      "outputs": []
    },
    {
      "cell_type": "code",
      "metadata": {
        "id": "VqgGpBjAovL3"
      },
      "source": [
        "#The last element of data preprocessing is their normalization.\n",
        "\n",
        "x_train_final = x_train_final / 255\n",
        "x_test_final = x_test_final / 255"
      ],
      "execution_count": 31,
      "outputs": []
    },
    {
      "cell_type": "markdown",
      "metadata": {
        "id": "xgiNYlFqpeR0"
      },
      "source": [
        "Model:   polynomial value: x1 * w1 + x2 * w2 + … + x784 * w784"
      ]
    },
    {
      "cell_type": "code",
      "metadata": {
        "id": "-_lIWZaeovOR"
      },
      "source": [
        "model = keras.Sequential()\n",
        "model.add(keras.layers.Dense(10, input_shape=(784,), activation='softmax'))"
      ],
      "execution_count": 39,
      "outputs": []
    },
    {
      "cell_type": "code",
      "metadata": {
        "id": "_oPxy8UBpmJ2"
      },
      "source": [
        "model.compile(optimizer='sgd', loss='sparse_categorical_crossentropy', metrics=['accuracy'])"
      ],
      "execution_count": 36,
      "outputs": []
    },
    {
      "cell_type": "code",
      "metadata": {
        "colab": {
          "base_uri": "https://localhost:8080/"
        },
        "id": "sTTGaqADpmMt",
        "outputId": "55adf356-83b0-4e53-8be6-5345de4ba8ed"
      },
      "source": [
        "model.fit(\n",
        "  x=x_train_final,\n",
        "  y=y_train,\n",
        "  shuffle=True,\n",
        "  epochs=10,\n",
        "  batch_size=32\n",
        ")"
      ],
      "execution_count": 37,
      "outputs": [
        {
          "output_type": "stream",
          "text": [
            "Epoch 1/10\n",
            "1875/1875 [==============================] - 3s 1ms/step - loss: 0.7739 - accuracy: 0.8162\n",
            "Epoch 2/10\n",
            "1875/1875 [==============================] - 2s 1ms/step - loss: 0.4561 - accuracy: 0.8804\n",
            "Epoch 3/10\n",
            "1875/1875 [==============================] - 2s 1ms/step - loss: 0.4032 - accuracy: 0.8913\n",
            "Epoch 4/10\n",
            "1875/1875 [==============================] - 2s 1ms/step - loss: 0.3766 - accuracy: 0.8971\n",
            "Epoch 5/10\n",
            "1875/1875 [==============================] - 2s 1ms/step - loss: 0.3599 - accuracy: 0.9016\n",
            "Epoch 6/10\n",
            "1875/1875 [==============================] - 2s 1ms/step - loss: 0.3479 - accuracy: 0.9037\n",
            "Epoch 7/10\n",
            "1875/1875 [==============================] - 2s 1ms/step - loss: 0.3390 - accuracy: 0.9062\n",
            "Epoch 8/10\n",
            "1875/1875 [==============================] - 2s 1ms/step - loss: 0.3319 - accuracy: 0.9082\n",
            "Epoch 9/10\n",
            "1875/1875 [==============================] - 2s 1ms/step - loss: 0.3261 - accuracy: 0.9093\n",
            "Epoch 10/10\n",
            "1875/1875 [==============================] - 2s 1ms/step - loss: 0.3212 - accuracy: 0.9108\n"
          ],
          "name": "stdout"
        },
        {
          "output_type": "execute_result",
          "data": {
            "text/plain": [
              "<tensorflow.python.keras.callbacks.History at 0x7fbac2cbb750>"
            ]
          },
          "metadata": {
            "tags": []
          },
          "execution_count": 37
        }
      ]
    },
    {
      "cell_type": "code",
      "metadata": {
        "colab": {
          "base_uri": "https://localhost:8080/"
        },
        "id": "R42mRw_MpmUY",
        "outputId": "a054943d-d0de-40f8-a88d-e0a66df8debe"
      },
      "source": [
        "eval = model.evaluate(x=x_test_final, y=y_test)"
      ],
      "execution_count": 38,
      "outputs": [
        {
          "output_type": "stream",
          "text": [
            "313/313 [==============================] - 0s 1ms/step - loss: 0.3063 - accuracy: 0.9157\n"
          ],
          "name": "stdout"
        }
      ]
    },
    {
      "cell_type": "code",
      "metadata": {
        "colab": {
          "base_uri": "https://localhost:8080/"
        },
        "id": "vM4dWkzioBvc",
        "outputId": "2048c20c-7af7-4d77-dc91-25be9bdb87f8"
      },
      "source": [
        "x_test_final.shape"
      ],
      "execution_count": 41,
      "outputs": [
        {
          "output_type": "execute_result",
          "data": {
            "text/plain": [
              "(10000, 784)"
            ]
          },
          "metadata": {
            "tags": []
          },
          "execution_count": 41
        }
      ]
    },
    {
      "cell_type": "code",
      "metadata": {
        "colab": {
          "base_uri": "https://localhost:8080/"
        },
        "id": "7QkhIqqPo_NO",
        "outputId": "c283f3bf-0aec-47bb-cd8e-c79759115dbf"
      },
      "source": [
        "model.predict(x_test_final)"
      ],
      "execution_count": 55,
      "outputs": [
        {
          "output_type": "execute_result",
          "data": {
            "text/plain": [
              "array([[0.13025473, 0.16443047, 0.08220303, ..., 0.09397627, 0.0720684 ,\n",
              "        0.06835999],\n",
              "       [0.14101511, 0.13935721, 0.03401191, ..., 0.06262361, 0.05474415,\n",
              "        0.06202348],\n",
              "       [0.1271706 , 0.08549672, 0.08558014, ..., 0.07586759, 0.10916813,\n",
              "        0.10432363],\n",
              "       ...,\n",
              "       [0.21700272, 0.10909065, 0.04916679, ..., 0.07188012, 0.05122512,\n",
              "        0.10929968],\n",
              "       [0.16989538, 0.08120854, 0.10522784, ..., 0.04490495, 0.05665889,\n",
              "        0.10756479],\n",
              "       [0.1891115 , 0.20412207, 0.03154029, ..., 0.13582376, 0.0224752 ,\n",
              "        0.06501102]], dtype=float32)"
            ]
          },
          "metadata": {
            "tags": []
          },
          "execution_count": 55
        }
      ]
    },
    {
      "cell_type": "code",
      "metadata": {
        "colab": {
          "base_uri": "https://localhost:8080/",
          "height": 315
        },
        "id": "lD6Dm6pFmXoM",
        "outputId": "7532a97b-b0a1-4f12-903c-002c1759df05"
      },
      "source": [
        "import matplotlib.pyplot as plt\n",
        "\n",
        "idx =0\n",
        "print(model.predict(x_test_final[idx,:].reshape(1, -1)))\n",
        "plt.imshow(x_test_final[idx,:].reshape(28, 28))"
      ],
      "execution_count": 60,
      "outputs": [
        {
          "output_type": "stream",
          "text": [
            "[[0.13025473 0.16443048 0.08220303 0.13093054 0.08129378 0.08990427\n",
            "  0.08657842 0.09397629 0.0720684  0.06835999]]\n"
          ],
          "name": "stdout"
        },
        {
          "output_type": "execute_result",
          "data": {
            "text/plain": [
              "<matplotlib.image.AxesImage at 0x7fbabcdbaed0>"
            ]
          },
          "metadata": {
            "tags": []
          },
          "execution_count": 60
        },
        {
          "output_type": "display_data",
          "data": {
            "image/png": "[encoded data removed]",
            "text/plain": [
              "<Figure size 432x288 with 1 Axes>"
            ]
          },
          "metadata": {
            "tags": [],
            "needs_background": "light"
          }
        }
      ]
    }
  ]
}