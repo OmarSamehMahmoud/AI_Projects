{
  "nbformat": 4,
  "nbformat_minor": 0,
  "metadata": {
    "kernelspec": {
      "display_name": "Python 3",
      "language": "python",
      "name": "python3"
    },
    "language_info": {
      "codemirror_mode": {
        "name": "ipython",
        "version": 3
      },
      "file_extension": ".py",
      "mimetype": "text/x-python",
      "name": "python",
      "nbconvert_exporter": "python",
      "pygments_lexer": "ipython3",
      "version": "3.8.10"
    },
    "colab": {
      "name": "AlexNet.ipynb",
      "provenance": []
    },
    "accelerator": "GPU"
  },
  "cells": [
    {
      "cell_type": "code",
      "metadata": {
        "id": "3qIZPcSuNJcu"
      },
      "source": [
        "!pip install -q kaggle\n",
        "\n",
        "!mkdir -p ~/.kaggle\n",
        "!cp kaggle.json ~/.kaggle/\n",
        "\n",
        "# This permissions change avoids a warning on Kaggle tool startup.\n",
        "!chmod 600 ~/.kaggle/kaggle.json"
      ],
      "execution_count": 1,
      "outputs": []
    },
    {
      "cell_type": "code",
      "metadata": {
        "colab": {
          "base_uri": "https://localhost:8080/"
        },
        "id": "GkrXylnyTcg2",
        "outputId": "871cbe90-4510-4bd3-acbb-12bff4ee9ce0"
      },
      "source": [
        "!kaggle datasets download -d paultimothymooney/chest-xray-pneumonia"
      ],
      "execution_count": 2,
      "outputs": [
        {
          "output_type": "stream",
          "text": [
            "Downloading chest-xray-pneumonia.zip to /content\n",
            "100% 2.29G/2.29G [00:31<00:00, 29.9MB/s]\n",
            "100% 2.29G/2.29G [00:31<00:00, 79.0MB/s]\n"
          ],
          "name": "stdout"
        }
      ]
    },
    {
      "cell_type": "code",
      "metadata": {
        "id": "A2IEz90ZNM3T"
      },
      "source": [
        "from zipfile import ZipFile\n",
        "file_name='/content/chest-xray-pneumonia.zip'\n",
        "with ZipFile(file_name,'r') as zip:\n",
        "  zip.extractall()"
      ],
      "execution_count": 3,
      "outputs": []
    },
    {
      "cell_type": "code",
      "metadata": {
        "id": "3_Uq9k2fmJy-"
      },
      "source": [
        "import keras \n",
        "from keras.models import * \n",
        "from keras.layers import * \n",
        "from keras.preprocessing import image\n",
        "import PIL\n",
        "from keras.preprocessing.image import ImageDataGenerator"
      ],
      "execution_count": 4,
      "outputs": []
    },
    {
      "cell_type": "code",
      "metadata": {
        "id": "1-Db16F9mJzF",
        "colab": {
          "base_uri": "https://localhost:8080/"
        },
        "outputId": "fd03aa8b-1b31-44b8-dfff-ca87751ff72e"
      },
      "source": [
        "train_datagen = ImageDataGenerator( \n",
        "        rescale=1./255,\n",
        "        shear_range=0.2,\n",
        "        zoom_range=0.2,\n",
        "        horizontal_flip=True)\n",
        "\n",
        "\n",
        "test_datagen = ImageDataGenerator(rescale=1./255)\n",
        "\n",
        "training_set = train_datagen.flow_from_directory(\n",
        "        r'/content/chest_xray/train',\n",
        "        color_mode = 'grayscale',\n",
        "        target_size=(224, 224),\n",
        "        batch_size=32,\n",
        "        class_mode='binary', shuffle=True)\n",
        "\n",
        "test_set = test_datagen.flow_from_directory(\n",
        "        r'/content/chest_xray/test',\n",
        "        color_mode = 'grayscale',\n",
        "        target_size=(224, 224),\n",
        "        batch_size=32,\n",
        "        class_mode='binary', shuffle=True)"
      ],
      "execution_count": 5,
      "outputs": [
        {
          "output_type": "stream",
          "text": [
            "Found 5216 images belonging to 2 classes.\n",
            "Found 624 images belonging to 2 classes.\n"
          ],
          "name": "stdout"
        }
      ]
    },
    {
      "cell_type": "code",
      "metadata": {
        "id": "ikSmGYjTmJzA",
        "colab": {
          "base_uri": "https://localhost:8080/"
        },
        "outputId": "e4a1a1ad-5bfc-4390-fdc7-d5a976e2eec4"
      },
      "source": [
        "# AlexNet\n",
        "model = Sequential()\n",
        "\n",
        "model.add(Conv2D(96, kernel_size=(11, 11), strides=(4,4), padding='valid', activation='relu', input_shape=(224,224,1)))\n",
        "model.add(MaxPooling2D(pool_size=(3, 3), strides=(2, 2)))\n",
        "\n",
        "model.add(Conv2D(256, kernel_size=(5, 5), strides=(1,1), activation='relu', padding='same'))\n",
        "model.add(MaxPooling2D(pool_size=(3, 3), strides=(2, 2)))\n",
        "model.add(Conv2D(384, kernel_size=(3, 3), strides=(1,1), activation='relu', padding='same'))\n",
        "model.add(Conv2D(384, kernel_size=(3, 3), strides=(1,1), activation='relu', padding='same'))\n",
        "model.add(Conv2D(256, kernel_size=(3, 3), strides=(1,1), activation='relu', padding='same'))\n",
        "model.add(MaxPooling2D(pool_size=(3, 3), strides=(2, 2)))\n",
        "model.add(Dropout(0.5))\n",
        "\n",
        "\n",
        "#model.add(Dropout(0.25))\n",
        "model.add(Flatten())\n",
        "model.add(Dense(4096, activation='relu'))\n",
        "model.add(Dropout(0.5))\n",
        "model.add(Dense(4096, activation='relu'))\n",
        "model.add(Dense(1, activation='sigmoid'))\n",
        "\n",
        "model.compile(loss=keras.losses.binary_crossentropy, optimizer=\"adam\", metrics=['accuracy'])\n",
        "\n",
        "\n",
        "model.summary()"
      ],
      "execution_count": 9,
      "outputs": [
        {
          "output_type": "stream",
          "text": [
            "Model: \"sequential_1\"\n",
            "_________________________________________________________________\n",
            "Layer (type)                 Output Shape              Param #   \n",
            "=================================================================\n",
            "conv2d_3 (Conv2D)            (None, 54, 54, 96)        11712     \n",
            "_________________________________________________________________\n",
            "max_pooling2d_3 (MaxPooling2 (None, 26, 26, 96)        0         \n",
            "_________________________________________________________________\n",
            "conv2d_4 (Conv2D)            (None, 26, 26, 256)       614656    \n",
            "_________________________________________________________________\n",
            "max_pooling2d_4 (MaxPooling2 (None, 12, 12, 256)       0         \n",
            "_________________________________________________________________\n",
            "conv2d_5 (Conv2D)            (None, 12, 12, 384)       885120    \n",
            "_________________________________________________________________\n",
            "conv2d_6 (Conv2D)            (None, 12, 12, 384)       1327488   \n",
            "_________________________________________________________________\n",
            "conv2d_7 (Conv2D)            (None, 12, 12, 256)       884992    \n",
            "_________________________________________________________________\n",
            "max_pooling2d_5 (MaxPooling2 (None, 5, 5, 256)         0         \n",
            "_________________________________________________________________\n",
            "dropout_6 (Dropout)          (None, 5, 5, 256)         0         \n",
            "_________________________________________________________________\n",
            "flatten_1 (Flatten)          (None, 6400)              0         \n",
            "_________________________________________________________________\n",
            "dense_4 (Dense)              (None, 4096)              26218496  \n",
            "_________________________________________________________________\n",
            "dropout_7 (Dropout)          (None, 4096)              0         \n",
            "_________________________________________________________________\n",
            "dense_5 (Dense)              (None, 4096)              16781312  \n",
            "_________________________________________________________________\n",
            "dense_6 (Dense)              (None, 1)                 4097      \n",
            "=================================================================\n",
            "Total params: 46,727,873\n",
            "Trainable params: 46,727,873\n",
            "Non-trainable params: 0\n",
            "_________________________________________________________________\n"
          ],
          "name": "stdout"
        }
      ]
    },
    {
      "cell_type": "code",
      "metadata": {
        "scrolled": true,
        "id": "CqsTHqtGmJzH",
        "colab": {
          "base_uri": "https://localhost:8080/"
        },
        "outputId": "864bbc77-fb62-44a1-b942-9131ae77db52"
      },
      "source": [
        "#We'll try to train with 100 Epochs\n",
        "results=model.fit( \n",
        "    training_set,\n",
        "    batch_size=32,  \n",
        "    epochs=30,\n",
        "    validation_data=test_set,\n",
        "    validation_steps=1\n",
        ")"
      ],
      "execution_count": 10,
      "outputs": [
        {
          "output_type": "stream",
          "text": [
            "Epoch 1/30\n",
            "163/163 [==============================] - 61s 364ms/step - loss: 0.6576 - accuracy: 0.7322 - val_loss: 0.7644 - val_accuracy: 0.5625\n",
            "Epoch 2/30\n",
            "163/163 [==============================] - 59s 364ms/step - loss: 0.4920 - accuracy: 0.7699 - val_loss: 0.3492 - val_accuracy: 0.8438\n",
            "Epoch 3/30\n",
            "163/163 [==============================] - 59s 364ms/step - loss: 0.3234 - accuracy: 0.8516 - val_loss: 0.2630 - val_accuracy: 0.8750\n",
            "Epoch 4/30\n",
            "163/163 [==============================] - 59s 363ms/step - loss: 0.2931 - accuracy: 0.8838 - val_loss: 0.3741 - val_accuracy: 0.9062\n",
            "Epoch 5/30\n",
            "163/163 [==============================] - 60s 365ms/step - loss: 0.2408 - accuracy: 0.8990 - val_loss: 0.1835 - val_accuracy: 0.9062\n",
            "Epoch 6/30\n",
            "163/163 [==============================] - 60s 365ms/step - loss: 0.2255 - accuracy: 0.9091 - val_loss: 0.3320 - val_accuracy: 0.9062\n",
            "Epoch 7/30\n",
            "163/163 [==============================] - 59s 363ms/step - loss: 0.2101 - accuracy: 0.9164 - val_loss: 0.2601 - val_accuracy: 0.9062\n",
            "Epoch 8/30\n",
            "163/163 [==============================] - 59s 360ms/step - loss: 0.1815 - accuracy: 0.9314 - val_loss: 0.2548 - val_accuracy: 0.8438\n",
            "Epoch 9/30\n",
            "163/163 [==============================] - 59s 359ms/step - loss: 0.1818 - accuracy: 0.9325 - val_loss: 0.7043 - val_accuracy: 0.8438\n",
            "Epoch 10/30\n",
            "163/163 [==============================] - 59s 359ms/step - loss: 0.1728 - accuracy: 0.9316 - val_loss: 0.5018 - val_accuracy: 0.6875\n",
            "Epoch 11/30\n",
            "163/163 [==============================] - 59s 359ms/step - loss: 0.1768 - accuracy: 0.9302 - val_loss: 0.5996 - val_accuracy: 0.7812\n",
            "Epoch 12/30\n",
            "163/163 [==============================] - 59s 359ms/step - loss: 0.1672 - accuracy: 0.9331 - val_loss: 0.0975 - val_accuracy: 0.9688\n",
            "Epoch 13/30\n",
            "163/163 [==============================] - 59s 359ms/step - loss: 0.1529 - accuracy: 0.9419 - val_loss: 0.3102 - val_accuracy: 0.8750\n",
            "Epoch 14/30\n",
            "163/163 [==============================] - 59s 360ms/step - loss: 0.1556 - accuracy: 0.9408 - val_loss: 0.3643 - val_accuracy: 0.7812\n",
            "Epoch 15/30\n",
            "163/163 [==============================] - 59s 360ms/step - loss: 0.1615 - accuracy: 0.9385 - val_loss: 0.1598 - val_accuracy: 0.9062\n",
            "Epoch 16/30\n",
            "163/163 [==============================] - 59s 359ms/step - loss: 0.1543 - accuracy: 0.9396 - val_loss: 0.1115 - val_accuracy: 0.9688\n",
            "Epoch 17/30\n",
            "163/163 [==============================] - 59s 359ms/step - loss: 0.1473 - accuracy: 0.9440 - val_loss: 0.5256 - val_accuracy: 0.9062\n",
            "Epoch 18/30\n",
            "163/163 [==============================] - 59s 361ms/step - loss: 0.1537 - accuracy: 0.9434 - val_loss: 0.4382 - val_accuracy: 0.8125\n",
            "Epoch 19/30\n",
            "163/163 [==============================] - 60s 365ms/step - loss: 0.1510 - accuracy: 0.9431 - val_loss: 0.2801 - val_accuracy: 0.9062\n",
            "Epoch 20/30\n",
            "163/163 [==============================] - 59s 363ms/step - loss: 0.1506 - accuracy: 0.9459 - val_loss: 0.6464 - val_accuracy: 0.8438\n",
            "Epoch 21/30\n",
            "163/163 [==============================] - 59s 363ms/step - loss: 0.1491 - accuracy: 0.9456 - val_loss: 0.2693 - val_accuracy: 0.9375\n",
            "Epoch 22/30\n",
            "163/163 [==============================] - 59s 361ms/step - loss: 0.1511 - accuracy: 0.9425 - val_loss: 0.2381 - val_accuracy: 0.9375\n",
            "Epoch 23/30\n",
            "163/163 [==============================] - 59s 362ms/step - loss: 0.1374 - accuracy: 0.9471 - val_loss: 0.3731 - val_accuracy: 0.8750\n",
            "Epoch 24/30\n",
            "163/163 [==============================] - 59s 362ms/step - loss: 0.1358 - accuracy: 0.9496 - val_loss: 0.4457 - val_accuracy: 0.8438\n",
            "Epoch 25/30\n",
            "163/163 [==============================] - 59s 361ms/step - loss: 0.1277 - accuracy: 0.9517 - val_loss: 0.1422 - val_accuracy: 0.9375\n",
            "Epoch 26/30\n",
            "163/163 [==============================] - 59s 362ms/step - loss: 0.1208 - accuracy: 0.9526 - val_loss: 0.7388 - val_accuracy: 0.8438\n",
            "Epoch 27/30\n",
            "163/163 [==============================] - 59s 361ms/step - loss: 0.1216 - accuracy: 0.9559 - val_loss: 0.2171 - val_accuracy: 0.9375\n",
            "Epoch 28/30\n",
            "163/163 [==============================] - 59s 364ms/step - loss: 0.1293 - accuracy: 0.9515 - val_loss: 0.2898 - val_accuracy: 0.8750\n",
            "Epoch 29/30\n",
            "163/163 [==============================] - 59s 361ms/step - loss: 0.1246 - accuracy: 0.9505 - val_loss: 0.2946 - val_accuracy: 0.9375\n",
            "Epoch 30/30\n",
            "163/163 [==============================] - 59s 362ms/step - loss: 0.1252 - accuracy: 0.9513 - val_loss: 0.8337 - val_accuracy: 0.7812\n"
          ],
          "name": "stdout"
        }
      ]
    },
    {
      "cell_type": "code",
      "metadata": {
        "id": "Hc0yWCLKmJzJ",
        "colab": {
          "base_uri": "https://localhost:8080/",
          "height": 312
        },
        "outputId": "afd9623f-e7e0-4089-81e1-f9699924ba85"
      },
      "source": [
        "import matplotlib.pyplot as plt\n",
        "%matplotlib inline\n",
        "plt.plot(results.history['loss'])\n",
        "plt.plot(results.history['val_loss'])\n",
        "plt.legend(['Training', 'Validation'])\n",
        "plt.title('Training and Validation losses')\n",
        "plt.xlabel('epoch')"
      ],
      "execution_count": 11,
      "outputs": [
        {
          "output_type": "execute_result",
          "data": {
            "text/plain": [
              "Text(0.5, 0, 'epoch')"
            ]
          },
          "metadata": {},
          "execution_count": 11
        },
        {
          "output_type": "display_data",
          "data": {
            "image/png": "[encoded data removed]",
            "text/plain": [
              "<Figure size 432x288 with 1 Axes>"
            ]
          },
          "metadata": {
            "needs_background": "light"
          }
        }
      ]
    },
    {
      "cell_type": "code",
      "metadata": {
        "id": "mM82VIBBmJzK",
        "colab": {
          "base_uri": "https://localhost:8080/",
          "height": 295
        },
        "outputId": "ced6e292-4287-4049-8ed9-83f0af87470c"
      },
      "source": [
        "plt.plot(results.history['accuracy'])\n",
        "plt.plot(results.history['val_accuracy'])\n",
        "plt.legend(['Training', 'Validation'])\n",
        "plt.title('Training and Validation accuracy')\n",
        "plt.xlabel('epoch')\n",
        "plt.ylim(0, 1);"
      ],
      "execution_count": 12,
      "outputs": [
        {
          "output_type": "display_data",
          "data": {
            "image/png": "[encoded data removed]",
            "text/plain": [
              "<Figure size 432x288 with 1 Axes>"
            ]
          },
          "metadata": {
            "needs_background": "light"
          }
        }
      ]
    },
    {
      "cell_type": "code",
      "metadata": {
        "id": "Toq27GVewB5f"
      },
      "source": [
        ""
      ],
      "execution_count": null,
      "outputs": []
    }
  ]
}